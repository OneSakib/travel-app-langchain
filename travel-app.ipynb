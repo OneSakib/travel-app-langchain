{
 "cells": [
  {
   "cell_type": "code",
   "execution_count": 3,
   "id": "c13009b0",
   "metadata": {},
   "outputs": [],
   "source": [
    "from langchain_openai import ChatOpenAI\n",
    "from langchain.agents import AgentExecutor,create_openai_functions_agent"
   ]
  },
  {
   "cell_type": "code",
   "execution_count": 6,
   "id": "3baf66e4",
   "metadata": {},
   "outputs": [],
   "source": [
    "# Tools\n",
    "from langchain.tools import tool\n",
    "import os\n",
    "import requests\n",
    "from langchain.prompts import ChatPromptTemplate\n",
    "\n",
    "\n",
    "\n",
    "\n",
    "@tool\n",
    "def get_current_time() -> str:\n",
    "    \"\"\"Returns the current system time.\"\"\"\n",
    "    from datetime import datetime\n",
    "    return datetime.now().strftime(\"%Y-%m-%d %H:%M:%S\")\n",
    "\n",
    "\n",
    "@tool\n",
    "def greet(name: str) -> str:\n",
    "    \"\"\"Greets a user by name.\"\"\"\n",
    "    return f\"Hello, {name}!\"\n",
    "\n",
    "\n",
    "\n",
    "WEATHER_API_KEY = os.getenv('WEATHER_API_KEY')\n",
    "\n",
    "\n",
    "@tool\n",
    "def get_weather_data(city: str) -> str:\n",
    "    \"\"\" get Weather Data\n",
    "    args:\n",
    "        city:str\n",
    "    \"\"\"\n",
    "    url = f\"https://api.weatherstack.com/current?access_key={WEATHER_API_KEY}&query={city}\"\n",
    "    response = requests.get(url)\n",
    "    return response.json()\n",
    "\n",
    "\n",
    "@tool\n",
    "def get_attractions(city: str) -> list:\n",
    "    \"\"\"Get top 5 tourist attractions in a city.\"\"\"\n",
    "    # Ideally scrape or use API like TripAdvisor\n",
    "    attractions = {\n",
    "        \"Paris\": [\"Eiffel Tower\", \"Louvre Museum\", \"Notre-Dame Cathedral\"],\n",
    "        \"Rome\": [\"Colosseum\", \"Trevi Fountain\", \"Pantheon\"]\n",
    "    }\n",
    "    return attractions.get(city, [\"No data available\"])"
   ]
  },
  {
   "cell_type": "code",
   "execution_count": null,
   "id": "bf9ee4d5",
   "metadata": {},
   "outputs": [
    {
     "ename": "SyntaxError",
     "evalue": "invalid syntax (2996903092.py, line 9)",
     "output_type": "error",
     "traceback": [
      "  \u001b[36mCell\u001b[39m\u001b[36m \u001b[39m\u001b[32mIn[7]\u001b[39m\u001b[32m, line 9\u001b[39m\n\u001b[31m    \u001b[39m\u001b[31magent=create_openai_functions_agent(llm=llm,tools=tools,prompt=)\u001b[39m\n                                                                   ^\n\u001b[31mSyntaxError\u001b[39m\u001b[31m:\u001b[39m invalid syntax\n"
     ]
    }
   ],
   "source": [
    "from langchain.schema.messages import SystemMessage,HumanMessage,AIMessage\n",
    "llm=ChatOpenAI(model=\"gpt-4o\")\n",
    "prompt=ChatPromptTemplate.from_messages(\n",
    "    [\n",
    "        SystemMessage(content=\"you are a helpful travel agent, which will help user to make trip eary and budget friendly. for this you have some tools. use threse tool and make budget friendly trip\"),\n",
    "\n",
    "    ]\n",
    "    )\n",
    "tools=[get_current_time,greet,get_weather_data,get_attractions]\n",
    "agent=create_openai_functions_agent(llm=llm,tools=tools,prompt=)"
   ]
  },
  {
   "cell_type": "code",
   "execution_count": null,
   "id": "dcb56438",
   "metadata": {},
   "outputs": [],
   "source": []
  }
 ],
 "metadata": {
  "kernelspec": {
   "display_name": "venv",
   "language": "python",
   "name": "python3"
  },
  "language_info": {
   "codemirror_mode": {
    "name": "ipython",
    "version": 3
   },
   "file_extension": ".py",
   "mimetype": "text/x-python",
   "name": "python",
   "nbconvert_exporter": "python",
   "pygments_lexer": "ipython3",
   "version": "3.11.0"
  }
 },
 "nbformat": 4,
 "nbformat_minor": 5
}
